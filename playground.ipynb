{
 "cells": [
  {
   "cell_type": "code",
   "execution_count": 22,
   "metadata": {
    "collapsed": true
   },
   "outputs": [],
   "source": [
    "import numpy as np\n",
    "import scipy\n",
    "import matplotlib"
   ]
  },
  {
   "cell_type": "code",
   "execution_count": 12,
   "metadata": {},
   "outputs": [
    {
     "name": "stdout",
     "output_type": "stream",
     "text": [
      "4435884000\n",
      "4435884000\n",
      "128\n",
      "4435880064\n",
      "4435884000\n",
      "4435884000\n"
     ]
    }
   ],
   "source": [
    "a = 128\n",
    "print(id(a))\n",
    "b = a\n",
    "print(id(b))\n",
    "\n",
    "\n",
    "a = 5\n",
    "print(b)\n",
    "print(id(a))\n",
    "print(id(b))\n",
    "\n",
    "a = 128\n",
    "print(id(a))"
   ]
  },
  {
   "cell_type": "code",
   "execution_count": 1,
   "metadata": {},
   "outputs": [
    {
     "name": "stdout",
     "output_type": "stream",
     "text": [
      "97\n"
     ]
    }
   ],
   "source": [
    "some_string = 'abcdefghijklmnop'\n",
    "character = 'a'\n",
    "print(ord(character)) # ord() returns an integer representing the Unicode code point of the character when the argument is a unicode object, or the value of the byte when the argument is an 8-bit string."
   ]
  },
  {
   "cell_type": "code",
   "execution_count": 13,
   "metadata": {},
   "outputs": [
    {
     "name": "stdout",
     "output_type": "stream",
     "text": [
      "[ 1  2  3  4  5  6  7  8  9 10 11 12 13 14 15 16 17 18 19]\n",
      "12.2\n",
      "12.4\n",
      "12.6\n",
      "12.8\n",
      "13.0\n",
      "13.2\n",
      "13.4\n",
      "13.6\n",
      "13.8\n",
      "14.0\n"
     ]
    }
   ],
   "source": [
    "# 6/6/2018 - Exercise #1\n",
    "import numpy as np\n",
    "\n",
    "# Create evenly spaced values of type np.int32 within the interval (1, 20, 1)\n",
    "a = np.arange(1, 20, 1, dtype=np.int32)\n",
    "print(a)\n",
    "\n",
    "\n",
    "def myfunc(start, end, step):\n",
    "    while start <= end:\n",
    "        yield start\n",
    "        start += step\n",
    "        \n",
    "for x in myfunc(a[0], a[len(a)-1], 0.2):\n",
    "    if x > 12 and x < 14:\n",
    "        print(x)"
   ]
  },
  {
   "cell_type": "code",
   "execution_count": 19,
   "metadata": {},
   "outputs": [
    {
     "name": "stdout",
     "output_type": "stream",
     "text": [
      "[[ 2  4  6]\n",
      " [ 2 23  6]\n",
      " [64 23 55]]\n",
      "9\n",
      "(3, 3)\n",
      "<class 'numpy.ndarray'>\n",
      "55\n",
      "[2 4 6]\n",
      "(3,)\n",
      "88\n",
      "88\n",
      "[[ 2  4 88]\n",
      " [ 2 23  6]\n",
      " [64 23 55]]\n",
      "[ 2  4 88]\n"
     ]
    }
   ],
   "source": [
    "a = np.array([[2, 4, 6], [2, 23, 6], [64, 23, 55]], dtype=np.int16)\n",
    "print(a)\n",
    "print(a.size)\n",
    "print(a.shape)\n",
    "print(type(a))\n",
    "print(a[2, 2]) # this is how we index a particular element in the array\n",
    "\n",
    "b = a[0,:]\n",
    "print(b)\n",
    "print(b.shape)\n",
    "\n",
    "b[2] = 88\n",
    "print(b[2]) # => since b is a view of a (the base), this change will be reflected in a as well\n",
    "print(a[0,2]) # => should be 88\n",
    "\n",
    "print(a)\n",
    "print(b)\n"
   ]
  },
  {
   "cell_type": "code",
   "execution_count": 20,
   "metadata": {},
   "outputs": [
    {
     "name": "stdout",
     "output_type": "stream",
     "text": [
      "[[ 0.  0.  0.  0.  0.]\n",
      " [ 0.  0.  0.  0.  0.]\n",
      " [ 0.  0.  0.  0.  0.]\n",
      " [ 0.  0.  0.  0.  0.]]\n",
      "[[ -2.00000000e+000   1.49457098e-154]\n",
      " [ -2.00000000e+000   2.82464293e-309]]\n",
      "[[ -2.00000000e+000 -2.00000000e+000j   2.96439388e-323 +0.00000000e+000j\n",
      "    0.00000000e+000 +0.00000000e+000j]\n",
      " [ -2.00000000e+000 -2.00000000e+000j   1.48219694e-323 +0.00000000e+000j\n",
      "    0.00000000e+000 +8.34402697e-309j]]\n"
     ]
    }
   ],
   "source": [
    "c = np.zeros(shape=(4,5)) # contains zeros for all elements\n",
    "print(c)\n",
    "\n",
    "d = np.empty(shape=(2,2)) # contains meaningless data\n",
    "print(d)\n",
    "\n",
    "e = np.ndarray(shape=(2,3), dtype=complex, offset=np.float_().itemsize, order='C')\n",
    "print(e)"
   ]
  },
  {
   "cell_type": "code",
   "execution_count": 25,
   "metadata": {},
   "outputs": [
    {
     "name": "stdout",
     "output_type": "stream",
     "text": [
      "[ 1.          1.44444444  1.88888889  2.33333333  2.77777778  3.22222222\n",
      "  3.66666667  4.11111111  4.55555556  5.        ]\n",
      "[ 1.   1.4  1.8  2.2  2.6  3.   3.4  3.8  4.2  4.6]\n",
      "[ 1.          1.44444444  1.88888889  2.33333333  2.77777778  3.22222222\n",
      "  3.66666667  4.11111111  4.55555556  5.        ]\n"
     ]
    }
   ],
   "source": [
    "a = np.linspace(1, 5, 10) # create an array of 10 values between the range of 1-5\n",
    "print(a)\n",
    "\n",
    "a = np.linspace(1, 5, 10, endpoint=False) # 5 will not be included in the array, since endpoint=False\n",
    "print(a)\n",
    "\n",
    "a = np.linspace(1, 5, 10, endpoint=True)\n",
    "print(a)"
   ]
  },
  {
   "cell_type": "code",
   "execution_count": 37,
   "metadata": {},
   "outputs": [
    {
     "name": "stdout",
     "output_type": "stream",
     "text": [
      "f\n",
      "[[[ -2.00000000e+000 +1.73059496e-77j   6.42285340e-323 +0.00000000e+00j]\n",
      "  [  0.00000000e+000 +0.00000000e+00j   0.00000000e+000 +0.00000000e+00j]\n",
      "  [  0.00000000e+000 +0.00000000e+00j   0.00000000e+000 +0.00000000e+00j]]\n",
      "\n",
      " [[  0.00000000e+000 +0.00000000e+00j   0.00000000e+000 +0.00000000e+00j]\n",
      "  [  0.00000000e+000 +0.00000000e+00j   0.00000000e+000 +0.00000000e+00j]\n",
      "  [  0.00000000e+000 +0.00000000e+00j   0.00000000e+000 +0.00000000e+00j]]]\n",
      "---------------\n",
      "f.real\n",
      "[[[ -2.00000000e+000   6.42285340e-323]\n",
      "  [  0.00000000e+000   0.00000000e+000]\n",
      "  [  0.00000000e+000   0.00000000e+000]]\n",
      "\n",
      " [[  0.00000000e+000   0.00000000e+000]\n",
      "  [  0.00000000e+000   0.00000000e+000]\n",
      "  [  0.00000000e+000   0.00000000e+000]]]\n",
      "---------------\n",
      "f.real.T\n",
      "[[[ -2.00000000e+000   0.00000000e+000]\n",
      "  [  0.00000000e+000   0.00000000e+000]\n",
      "  [  0.00000000e+000   0.00000000e+000]]\n",
      "\n",
      " [[  6.42285340e-323   0.00000000e+000]\n",
      "  [  0.00000000e+000   0.00000000e+000]\n",
      "  [  0.00000000e+000   0.00000000e+000]]]\n",
      "---------------\n",
      "f.imag.flags\n",
      "  C_CONTIGUOUS : True\n",
      "  F_CONTIGUOUS : False\n",
      "  OWNDATA : True\n",
      "  WRITEABLE : True\n",
      "  ALIGNED : True\n",
      "  UPDATEIFCOPY : False\n",
      "We can also change these flags, for example can we lock this object to be non writeable?\n",
      "  C_CONTIGUOUS : True\n",
      "  F_CONTIGUOUS : False\n",
      "  OWNDATA : True\n",
      "  WRITEABLE : False\n",
      "  ALIGNED : True\n",
      "  UPDATEIFCOPY : False\n",
      "---------------\n",
      "f.imag.data\n",
      "<memory at 0x10c53fd68>\n",
      "---------------\n",
      "f.dtype\n",
      "complex128\n",
      "---------------\n",
      "f.shape\n",
      "(2, 3, 2)\n",
      "---------------\n",
      "f.T.shape\n",
      "(2, 3, 2)\n",
      "---------------\n",
      "f.size\n",
      "12\n",
      "---------------\n",
      "f.nbytes\n",
      "192\n",
      "---------------\n",
      "f.ndim\n",
      "3\n"
     ]
    }
   ],
   "source": [
    "f = np.ndarray(shape=(2,3,2), dtype=complex)\n",
    "print('f')\n",
    "print(f)\n",
    "print('---------------')\n",
    "print('f.real')\n",
    "print(f.real)\n",
    "print('---------------')\n",
    "print('f.real.T') # T means transpose\n",
    "print(f.real.T)\n",
    "print('---------------')\n",
    "print('f.imag.flags')\n",
    "print(f.flags)\n",
    "print('We can also change these flags, for example can we lock this object to be non writeable?')\n",
    "f.flags.writeable = False\n",
    "print(f.flags)\n",
    "print('---------------')\n",
    "print('f.imag.data')\n",
    "print(f.imag.data)\n",
    "print('---------------')\n",
    "print('f.dtype')\n",
    "print(f.dtype)\n",
    "print('---------------')\n",
    "print('f.shape')\n",
    "print(f.shape)\n",
    "print('---------------')\n",
    "print('f.T.shape')\n",
    "print(f.T.shape)\n",
    "print('---------------')\n",
    "print('f.size')\n",
    "print(f.size)\n",
    "print('---------------')\n",
    "print('f.nbytes')\n",
    "print(f.nbytes)\n",
    "print('---------------')\n",
    "print('f.ndim')\n",
    "print(f.ndim)"
   ]
  },
  {
   "cell_type": "code",
   "execution_count": 43,
   "metadata": {},
   "outputs": [
    {
     "name": "stdout",
     "output_type": "stream",
     "text": [
      "[[12 13 14 15]\n",
      " [16 17 18 19]\n",
      " [20 21 22 23]]\n",
      "[[12 13 14 15]\n",
      " [16 17 18 19]\n",
      " [20 21 22 23]]\n",
      "[[12 16 20]\n",
      " [13 17 21]\n",
      " [14 18 22]\n",
      " [15 19 23]]\n",
      "flat\n",
      "18\n",
      "21\n",
      "[12 13 14 15 16 17 18 19 20 21 22 23]\n",
      "flatten\n",
      "[12 13 14 15 16 17 18 19 20 21 22 23]\n",
      "14\n"
     ]
    }
   ],
   "source": [
    "# Flat vs Flatten\n",
    "g = np.arange(12, 24).reshape(3,4)\n",
    "print(g)\n",
    "print(g[:, :])\n",
    "print(g.T)\n",
    "\n",
    "print('flat')\n",
    "print(g.flat[6])\n",
    "print(g.flat[9])\n",
    "print(g.flat[:])\n",
    "\n",
    "print('flatten')\n",
    "print(g.flatten())\n",
    "\n",
    "print(g.T.flat[6])"
   ]
  },
  {
   "cell_type": "code",
   "execution_count": 44,
   "metadata": {},
   "outputs": [
    {
     "name": "stdout",
     "output_type": "stream",
     "text": [
      "[[12 34 66 23]\n",
      " [ 5  5 11 23]\n",
      " [23 86 12 44]]\n",
      "<numpy.core._internal._ctypes object at 0x10c85ba20>\n",
      "140226232681024\n",
      "2\n",
      "2\n",
      "<class 'ctypes.c_long'>\n"
     ]
    }
   ],
   "source": [
    "j = np.array([[12, 34, 66, 23], [5, 5, 11, 23], [23, 86, 12, 44]])\n",
    "print(j)\n",
    "print(j.ctypes)\n",
    "print(j.ctypes.data)\n",
    "print(j.ctypes.shape._length_)\n",
    "print(j.ctypes.strides._length_)\n",
    "print(j.ctypes.shape._type_)"
   ]
  },
  {
   "cell_type": "code",
   "execution_count": 45,
   "metadata": {},
   "outputs": [
    {
     "name": "stdout",
     "output_type": "stream",
     "text": [
      "True\n",
      "True\n"
     ]
    }
   ],
   "source": [
    "k = np.array([0, 1, 2, 3, 4])\n",
    "print(k.base is None)\n",
    "\n",
    "l = k[0:2]\n",
    "print(l.base is k)"
   ]
  },
  {
   "cell_type": "code",
   "execution_count": 53,
   "metadata": {},
   "outputs": [
    {
     "name": "stdout",
     "output_type": "stream",
     "text": [
      "[4 9]\n",
      "[[13]]\n",
      "[[0 0 0]\n",
      " [0 0 0]]\n",
      "13\n",
      "[[0 0]\n",
      " [0 0]]\n"
     ]
    }
   ],
   "source": [
    "a = np.array([2,3])\n",
    "print(a*a)\n",
    "\n",
    "m = np.matrix([2,3])\n",
    "# print(m*m) # This does not work, since it is a matrix!\n",
    "print(m*m.T)\n",
    "\n",
    "c = np.ndarray([2,3], dtype=np.int16)\n",
    "print(c*c)\n",
    "\n",
    "# To get the matrix multiplication of an ndarray\n",
    "print(np.dot(a, a.T))\n",
    "print(np.dot(c, c.T))"
   ]
  },
  {
   "cell_type": "code",
   "execution_count": 55,
   "metadata": {},
   "outputs": [
    {
     "name": "stdout",
     "output_type": "stream",
     "text": [
      "Help on method_descriptor:\n",
      "\n",
      "tofile(...)\n",
      "    a.tofile(fid, sep=\"\", format=\"%s\")\n",
      "    \n",
      "    Write array to a file as text or binary (default).\n",
      "    \n",
      "    Data is always written in 'C' order, independent of the order of `a`.\n",
      "    The data produced by this method can be recovered using the function\n",
      "    fromfile().\n",
      "    \n",
      "    Parameters\n",
      "    ----------\n",
      "    fid : file or str\n",
      "        An open file object, or a string containing a filename.\n",
      "    sep : str\n",
      "        Separator between array items for text output.\n",
      "        If \"\" (empty), a binary file is written, equivalent to\n",
      "        ``file.write(a.tobytes())``.\n",
      "    format : str\n",
      "        Format string for text file output.\n",
      "        Each entry in the array is formatted to text by first converting\n",
      "        it to the closest Python type, and then using \"format\" % item.\n",
      "    \n",
      "    Notes\n",
      "    -----\n",
      "    This is a convenience function for quick storage of array data.\n",
      "    Information on endianness and precision is lost, so this method is not a\n",
      "    good choice for files intended to archive data or transport data between\n",
      "    machines with different endianness. Some of these problems can be overcome\n",
      "    by outputting the data as text files, at the expense of speed and file\n",
      "    size.\n",
      "\n"
     ]
    }
   ],
   "source": [
    "help(np.ndarray.tofile)"
   ]
  },
  {
   "cell_type": "code",
   "execution_count": null,
   "metadata": {
    "collapsed": true
   },
   "outputs": [],
   "source": []
  }
 ],
 "metadata": {
  "kernelspec": {
   "display_name": "Python 3",
   "language": "python",
   "name": "python3"
  },
  "language_info": {
   "codemirror_mode": {
    "name": "ipython",
    "version": 3
   },
   "file_extension": ".py",
   "mimetype": "text/x-python",
   "name": "python",
   "nbconvert_exporter": "python",
   "pygments_lexer": "ipython3",
   "version": "3.6.1"
  }
 },
 "nbformat": 4,
 "nbformat_minor": 2
}
